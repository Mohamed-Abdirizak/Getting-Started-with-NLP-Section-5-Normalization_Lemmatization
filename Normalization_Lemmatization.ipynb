{
  "nbformat": 4,
  "nbformat_minor": 0,
  "metadata": {
    "kernelspec": {
      "display_name": "Python 3",
      "language": "python",
      "name": "python3"
    },
    "language_info": {
      "codemirror_mode": {
        "name": "ipython",
        "version": 3
      },
      "file_extension": ".py",
      "mimetype": "text/x-python",
      "name": "python",
      "nbconvert_exporter": "python",
      "pygments_lexer": "ipython3",
      "version": "3.6.7"
    },
    "colab": {
      "provenance": []
    }
  },
  "cells": [
    {
      "cell_type": "markdown",
      "metadata": {
        "id": "3DuZXt_nkCo5"
      },
      "source": [
        "# Lemmatization in spaCy"
      ]
    },
    {
      "cell_type": "code",
      "metadata": {
        "id": "XE244nhmkCo7"
      },
      "source": [
        "# Defining the string\n",
        "text=\"The sky is clear and the stars are twinkling.\""
      ],
      "execution_count": null,
      "outputs": []
    },
    {
      "cell_type": "code",
      "metadata": {
        "id": "YYEvC2bAkCpF"
      },
      "source": [
        "import spacy"
      ],
      "execution_count": null,
      "outputs": []
    },
    {
      "cell_type": "code",
      "metadata": {
        "id": "xh54WXLCkCpM"
      },
      "source": [
        "\n",
        "# Loading spacy model\n",
        "nlp=spacy.load('en_core_web_sm')"
      ],
      "execution_count": null,
      "outputs": []
    },
    {
      "cell_type": "code",
      "metadata": {
        "id": "6v42AYrMkCpU"
      },
      "source": [
        "\n",
        "# Creating doc object\n",
        "doc=nlp(text)"
      ],
      "execution_count": null,
      "outputs": []
    },
    {
      "cell_type": "code",
      "metadata": {
        "id": "vZjxGGdtkCpc",
        "colab": {
          "base_uri": "https://localhost:8080/"
        },
        "outputId": "a025fb8c-1c1e-48b7-c194-0873a52777a8"
      },
      "source": [
        "\n",
        "# Lemmatizing the text\n",
        "[(token.text,token.lemma_) for token in doc]"
      ],
      "execution_count": null,
      "outputs": [
        {
          "output_type": "execute_result",
          "data": {
            "text/plain": [
              "[('The', 'the'),\n",
              " ('sky', 'sky'),\n",
              " ('is', 'be'),\n",
              " ('clear', 'clear'),\n",
              " ('and', 'and'),\n",
              " ('the', 'the'),\n",
              " ('stars', 'star'),\n",
              " ('are', 'be'),\n",
              " ('twinkling', 'twinkle'),\n",
              " ('.', '.')]"
            ]
          },
          "metadata": {},
          "execution_count": 5
        }
      ]
    },
    {
      "cell_type": "code",
      "metadata": {
        "id": "GKv3PEmKkCpk",
        "colab": {
          "base_uri": "https://localhost:8080/"
        },
        "outputId": "0eaf3a46-a1ea-4c8b-f650-eda02a9375fd"
      },
      "source": [
        "text=\"The moon looks beautiful at night. It's hard to resist its beauty.\"\n",
        "\n",
        "# Creating doc object\n",
        "doc=nlp(text)\n",
        "\n",
        "# Lemmatizing the text\n",
        "[(token.text,token.lemma_) for token in doc]"
      ],
      "execution_count": null,
      "outputs": [
        {
          "output_type": "execute_result",
          "data": {
            "text/plain": [
              "[('The', 'the'),\n",
              " ('moon', 'moon'),\n",
              " ('looks', 'look'),\n",
              " ('beautiful', 'beautiful'),\n",
              " ('at', 'at'),\n",
              " ('night', 'night'),\n",
              " ('.', '.'),\n",
              " ('It', 'it'),\n",
              " (\"'s\", 'be'),\n",
              " ('hard', 'hard'),\n",
              " ('to', 'to'),\n",
              " ('resist', 'resist'),\n",
              " ('its', 'its'),\n",
              " ('beauty', 'beauty'),\n",
              " ('.', '.')]"
            ]
          },
          "metadata": {},
          "execution_count": 6
        }
      ]
    },
    {
      "cell_type": "markdown",
      "source": [
        "## Exercise"
      ],
      "metadata": {
        "id": "n93c3HbncoQA"
      }
    },
    {
      "cell_type": "code",
      "source": [
        "from google.colab import drive\n",
        "drive.mount('/content/drive')"
      ],
      "metadata": {
        "colab": {
          "base_uri": "https://localhost:8080/"
        },
        "id": "dh7f9miOcqca",
        "outputId": "fc2511cb-910c-404d-bb09-7b3cbfd3cc73"
      },
      "execution_count": 2,
      "outputs": [
        {
          "output_type": "stream",
          "name": "stdout",
          "text": [
            "Mounted at /content/drive\n"
          ]
        }
      ]
    },
    {
      "cell_type": "code",
      "source": [
        "!unzip /content/drive/MyDrive/Courses/GettingStartedWithNPLcourseFromAnalysticsVidhya/Section5TextPreProcessing/Normalization.zip"
      ],
      "metadata": {
        "colab": {
          "base_uri": "https://localhost:8080/"
        },
        "id": "GeXbLfeAc0hA",
        "outputId": "7f82bd97-f794-4026-f4b1-1fabe4bd16e3"
      },
      "execution_count": 3,
      "outputs": [
        {
          "output_type": "stream",
          "name": "stdout",
          "text": [
            "Archive:  /content/drive/MyDrive/Courses/GettingStartedWithNPLcourseFromAnalysticsVidhya/Section5TextPreProcessing/Normalization.zip\n",
            "   creating: Normalization/\n",
            "  inflating: Normalization/5.4 Normalization-Lemmatization.ipynb  \n",
            "  inflating: Normalization/switzerland.txt  \n"
          ]
        }
      ]
    },
    {
      "cell_type": "code",
      "source": [],
      "metadata": {
        "id": "DEv2MFSIdtzc"
      },
      "execution_count": 3,
      "outputs": []
    },
    {
      "cell_type": "code",
      "source": [
        "# Reading the file using open()\n",
        "file=open('Normalization/switzerland.txt',mode='r',encoding='utf-8')\n",
        "\n",
        "# Getting text data as string\n",
        "text=file.read()\n",
        "\n",
        "# Closing the file\n",
        "file.close()"
      ],
      "metadata": {
        "id": "T7gy-K30dt2n"
      },
      "execution_count": 6,
      "outputs": []
    },
    {
      "cell_type": "code",
      "source": [
        "print(text)"
      ],
      "metadata": {
        "colab": {
          "base_uri": "https://localhost:8080/"
        },
        "id": "gdtLF4aic0kZ",
        "outputId": "785edfeb-6852-44d9-8959-340b876b26e4"
      },
      "execution_count": 7,
      "outputs": [
        {
          "output_type": "stream",
          "name": "stdout",
          "text": [
            "Switzerland, officially the Swiss Confederation, is a country situated in the confluence of Western, Central, and Southern Europe. It is a federal republic composed of 26 cantons, with federal authorities based in Bern. Switzerland is a landlocked country bordered by Italy to the south, France to the west, Germany to the north, and Austria and Liechtenstein to the east. It is geographically divided among the Swiss Plateau, the Alps, and the Jura, spanning a total area of 41,285 km2 (15,940 sq mi), and land area of 39,997 km2 (15,443 sq mi). While the Alps occupy the greater part of the territory, the Swiss population of approximately 8.5 million is concentrated mostly on the plateau, where the largest cities and economic centres are located, among them Zürich, Geneva and Basel, where multiple international organisations are domiciled (such as FIFA, the UN's second-largest Office, and the Bank for International Settlements) and where the main international airports of Switzerland are.\n",
            "\n"
          ]
        }
      ]
    },
    {
      "cell_type": "code",
      "source": [],
      "metadata": {
        "id": "4Ca_EuYPc0ng"
      },
      "execution_count": null,
      "outputs": []
    },
    {
      "cell_type": "markdown",
      "source": [
        "## Cleaning the text\n"
      ],
      "metadata": {
        "id": "el_B5H2Nb26Y"
      }
    },
    {
      "cell_type": "code",
      "source": [
        "import re\n",
        "\n",
        "# Function for cleaning text\n",
        "def clean_text(text):\n",
        "\n",
        "    # Lowercasing the text\n",
        "    text=text.lower()\n",
        "\n",
        "    # Removing comma(,), period(.) and newline character(\\n)\n",
        "    text=re.sub('[,.\\n]','',text)\n",
        "\n",
        "    # Replacing hypen with blank space\n",
        "    text=re.sub('-',' ',text)\n",
        "\n",
        "    return text"
      ],
      "metadata": {
        "id": "CvAArfSzb5Hb"
      },
      "execution_count": 8,
      "outputs": []
    },
    {
      "cell_type": "code",
      "source": [
        "# Cleaning Text\n",
        "cleaned_text=clean_text(text)"
      ],
      "metadata": {
        "id": "iGqy93QEb57O"
      },
      "execution_count": 9,
      "outputs": []
    },
    {
      "cell_type": "code",
      "source": [
        "print(cleaned_text)"
      ],
      "metadata": {
        "colab": {
          "base_uri": "https://localhost:8080/"
        },
        "id": "KmJo058_b7rt",
        "outputId": "d1a1c0e1-d91d-43a7-c265-256fc0d611d0"
      },
      "execution_count": 10,
      "outputs": [
        {
          "output_type": "stream",
          "name": "stdout",
          "text": [
            "switzerland officially the swiss confederation is a country situated in the confluence of western central and southern europe it is a federal republic composed of 26 cantons with federal authorities based in bern switzerland is a landlocked country bordered by italy to the south france to the west germany to the north and austria and liechtenstein to the east it is geographically divided among the swiss plateau the alps and the jura spanning a total area of 41285 km2 (15940 sq mi) and land area of 39997 km2 (15443 sq mi) while the alps occupy the greater part of the territory the swiss population of approximately 85 million is concentrated mostly on the plateau where the largest cities and economic centres are located among them zürich geneva and basel where multiple international organisations are domiciled (such as fifa the un's second largest office and the bank for international settlements) and where the main international airports of switzerland are\n"
          ]
        }
      ]
    },
    {
      "cell_type": "code",
      "source": [
        "import spacy\n"
      ],
      "metadata": {
        "id": "H_6NNtpqb9JZ"
      },
      "execution_count": 11,
      "outputs": []
    },
    {
      "cell_type": "code",
      "source": [
        "# Loading spacy model\n",
        "nlp=spacy.load('en_core_web_sm')\n"
      ],
      "metadata": {
        "id": "Xfzz5q2WcuG9"
      },
      "execution_count": 12,
      "outputs": []
    },
    {
      "cell_type": "code",
      "source": [
        "# Creating doc object\n",
        "doc=nlp(cleaned_text)\n"
      ],
      "metadata": {
        "id": "r-AAWh9PcuJl"
      },
      "execution_count": 16,
      "outputs": []
    },
    {
      "cell_type": "code",
      "source": [
        "# Lemmatizing the text\n",
        "[(token.text,token.lemma_) for token in doc]"
      ],
      "metadata": {
        "colab": {
          "base_uri": "https://localhost:8080/"
        },
        "id": "jZmwDjlwcuN9",
        "outputId": "d1dec1c7-f341-4fca-9787-140478059602"
      },
      "execution_count": 17,
      "outputs": [
        {
          "output_type": "execute_result",
          "data": {
            "text/plain": [
              "[('switzerland', 'switzerland'),\n",
              " ('officially', 'officially'),\n",
              " ('the', 'the'),\n",
              " ('swiss', 'swiss'),\n",
              " ('confederation', 'confederation'),\n",
              " ('is', 'be'),\n",
              " ('a', 'a'),\n",
              " ('country', 'country'),\n",
              " ('situated', 'situate'),\n",
              " ('in', 'in'),\n",
              " ('the', 'the'),\n",
              " ('confluence', 'confluence'),\n",
              " ('of', 'of'),\n",
              " ('western', 'western'),\n",
              " ('central', 'central'),\n",
              " ('and', 'and'),\n",
              " ('southern', 'southern'),\n",
              " ('europe', 'europe'),\n",
              " ('it', 'it'),\n",
              " ('is', 'be'),\n",
              " ('a', 'a'),\n",
              " ('federal', 'federal'),\n",
              " ('republic', 'republic'),\n",
              " ('composed', 'compose'),\n",
              " ('of', 'of'),\n",
              " ('26', '26'),\n",
              " ('cantons', 'canton'),\n",
              " ('with', 'with'),\n",
              " ('federal', 'federal'),\n",
              " ('authorities', 'authority'),\n",
              " ('based', 'base'),\n",
              " ('in', 'in'),\n",
              " ('bern', 'bern'),\n",
              " ('switzerland', 'switzerland'),\n",
              " ('is', 'be'),\n",
              " ('a', 'a'),\n",
              " ('landlocked', 'landlocked'),\n",
              " ('country', 'country'),\n",
              " ('bordered', 'border'),\n",
              " ('by', 'by'),\n",
              " ('italy', 'italy'),\n",
              " ('to', 'to'),\n",
              " ('the', 'the'),\n",
              " ('south', 'south'),\n",
              " ('france', 'france'),\n",
              " ('to', 'to'),\n",
              " ('the', 'the'),\n",
              " ('west', 'west'),\n",
              " ('germany', 'germany'),\n",
              " ('to', 'to'),\n",
              " ('the', 'the'),\n",
              " ('north', 'north'),\n",
              " ('and', 'and'),\n",
              " ('austria', 'austria'),\n",
              " ('and', 'and'),\n",
              " ('liechtenstein', 'liechtenstein'),\n",
              " ('to', 'to'),\n",
              " ('the', 'the'),\n",
              " ('east', 'east'),\n",
              " ('it', 'it'),\n",
              " ('is', 'be'),\n",
              " ('geographically', 'geographically'),\n",
              " ('divided', 'divide'),\n",
              " ('among', 'among'),\n",
              " ('the', 'the'),\n",
              " ('swiss', 'swiss'),\n",
              " ('plateau', 'plateau'),\n",
              " ('the', 'the'),\n",
              " ('alps', 'alp'),\n",
              " ('and', 'and'),\n",
              " ('the', 'the'),\n",
              " ('jura', 'jura'),\n",
              " ('spanning', 'span'),\n",
              " ('a', 'a'),\n",
              " ('total', 'total'),\n",
              " ('area', 'area'),\n",
              " ('of', 'of'),\n",
              " ('41285', '41285'),\n",
              " ('km2', 'km2'),\n",
              " ('(', '('),\n",
              " ('15940', '15940'),\n",
              " ('sq', 'sq'),\n",
              " ('mi', 'mi'),\n",
              " (')', ')'),\n",
              " ('and', 'and'),\n",
              " ('land', 'land'),\n",
              " ('area', 'area'),\n",
              " ('of', 'of'),\n",
              " ('39997', '39997'),\n",
              " ('km2', 'km2'),\n",
              " ('(', '('),\n",
              " ('15443', '15443'),\n",
              " ('sq', 'sq'),\n",
              " ('mi', 'mi'),\n",
              " (')', ')'),\n",
              " ('while', 'while'),\n",
              " ('the', 'the'),\n",
              " ('alps', 'alp'),\n",
              " ('occupy', 'occupy'),\n",
              " ('the', 'the'),\n",
              " ('greater', 'great'),\n",
              " ('part', 'part'),\n",
              " ('of', 'of'),\n",
              " ('the', 'the'),\n",
              " ('territory', 'territory'),\n",
              " ('the', 'the'),\n",
              " ('swiss', 'swiss'),\n",
              " ('population', 'population'),\n",
              " ('of', 'of'),\n",
              " ('approximately', 'approximately'),\n",
              " ('85', '85'),\n",
              " ('million', 'million'),\n",
              " ('is', 'be'),\n",
              " ('concentrated', 'concentrate'),\n",
              " ('mostly', 'mostly'),\n",
              " ('on', 'on'),\n",
              " ('the', 'the'),\n",
              " ('plateau', 'plateau'),\n",
              " ('where', 'where'),\n",
              " ('the', 'the'),\n",
              " ('largest', 'large'),\n",
              " ('cities', 'city'),\n",
              " ('and', 'and'),\n",
              " ('economic', 'economic'),\n",
              " ('centres', 'centre'),\n",
              " ('are', 'be'),\n",
              " ('located', 'locate'),\n",
              " ('among', 'among'),\n",
              " ('them', 'they'),\n",
              " ('zürich', 'zürich'),\n",
              " ('geneva', 'geneva'),\n",
              " ('and', 'and'),\n",
              " ('basel', 'basel'),\n",
              " ('where', 'where'),\n",
              " ('multiple', 'multiple'),\n",
              " ('international', 'international'),\n",
              " ('organisations', 'organisation'),\n",
              " ('are', 'be'),\n",
              " ('domiciled', 'domicile'),\n",
              " ('(', '('),\n",
              " ('such', 'such'),\n",
              " ('as', 'as'),\n",
              " ('fifa', 'fifa'),\n",
              " ('the', 'the'),\n",
              " ('un', 'un'),\n",
              " (\"'s\", \"'s\"),\n",
              " ('second', 'second'),\n",
              " ('largest', 'large'),\n",
              " ('office', 'office'),\n",
              " ('and', 'and'),\n",
              " ('the', 'the'),\n",
              " ('bank', 'bank'),\n",
              " ('for', 'for'),\n",
              " ('international', 'international'),\n",
              " ('settlements', 'settlement'),\n",
              " (')', ')'),\n",
              " ('and', 'and'),\n",
              " ('where', 'where'),\n",
              " ('the', 'the'),\n",
              " ('main', 'main'),\n",
              " ('international', 'international'),\n",
              " ('airports', 'airport'),\n",
              " ('of', 'of'),\n",
              " ('switzerland', 'switzerland'),\n",
              " ('are', 'be')]"
            ]
          },
          "metadata": {},
          "execution_count": 17
        }
      ]
    },
    {
      "cell_type": "code",
      "source": [],
      "metadata": {
        "id": "80K87IODcxqW"
      },
      "execution_count": null,
      "outputs": []
    }
  ]
}